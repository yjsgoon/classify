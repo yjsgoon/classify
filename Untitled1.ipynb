{
 "cells": [
  {
   "cell_type": "code",
   "execution_count": 1,
   "metadata": {
    "collapsed": true
   },
   "outputs": [],
   "source": [
    "import pandas as pd"
   ]
  },
  {
   "cell_type": "code",
   "execution_count": 2,
   "metadata": {
    "collapsed": true
   },
   "outputs": [],
   "source": [
    "train_df = pd.read_pickle(\"soma_goods_train.df\")"
   ]
  },
  {
   "cell_type": "code",
   "execution_count": 3,
   "metadata": {
    "collapsed": false
   },
   "outputs": [
    {
     "data": {
      "text/plain": [
       "(10000, 4)"
      ]
     },
     "execution_count": 3,
     "metadata": {},
     "output_type": "execute_result"
    }
   ],
   "source": [
    "train_df.shape"
   ]
  },
  {
   "cell_type": "code",
   "execution_count": 4,
   "metadata": {
    "collapsed": false
   },
   "outputs": [
    {
     "data": {
      "text/html": [
       "<div>\n",
       "<table border=\"1\" class=\"dataframe\">\n",
       "  <thead>\n",
       "    <tr style=\"text-align: right;\">\n",
       "      <th></th>\n",
       "      <th>cate1</th>\n",
       "      <th>cate2</th>\n",
       "      <th>cate3</th>\n",
       "      <th>name</th>\n",
       "    </tr>\n",
       "  </thead>\n",
       "  <tbody>\n",
       "    <tr>\n",
       "      <th>90985</th>\n",
       "      <td>디지털/가전</td>\n",
       "      <td>PC부품</td>\n",
       "      <td>CPU</td>\n",
       "      <td>인텔 인텔 코어i7-4세대 4770K (하스웰) (정품)</td>\n",
       "    </tr>\n",
       "    <tr>\n",
       "      <th>90986</th>\n",
       "      <td>디지털/가전</td>\n",
       "      <td>PC부품</td>\n",
       "      <td>CPU</td>\n",
       "      <td>애플 맥북에어 13형 MacBook Air 13.3/1.6/4/256FLASH MJ...</td>\n",
       "    </tr>\n",
       "    <tr>\n",
       "      <th>90987</th>\n",
       "      <td>디지털/가전</td>\n",
       "      <td>PC부품</td>\n",
       "      <td>CPU</td>\n",
       "      <td>애플 맥북에어 11형 MacBook Air 11.6/1.6/4/128FLASH MJ...</td>\n",
       "    </tr>\n",
       "    <tr>\n",
       "      <th>90988</th>\n",
       "      <td>디지털/가전</td>\n",
       "      <td>PC부품</td>\n",
       "      <td>CPU</td>\n",
       "      <td>[ICODA] [대리점정품]인텔 제온 E5-2630V3 하스웰-EP (2.4GHz/...</td>\n",
       "    </tr>\n",
       "    <tr>\n",
       "      <th>90989</th>\n",
       "      <td>디지털/가전</td>\n",
       "      <td>PC부품</td>\n",
       "      <td>CPU</td>\n",
       "      <td>ICODA [대리점정품]인텔 제온 E5-2630V3 하스웰-EP (2.4GHz/8C...</td>\n",
       "    </tr>\n",
       "    <tr>\n",
       "      <th>90990</th>\n",
       "      <td>디지털/가전</td>\n",
       "      <td>PC부품</td>\n",
       "      <td>CPU</td>\n",
       "      <td>인텔 intel 코어4세대 하스웰 i3-4160</td>\n",
       "    </tr>\n",
       "    <tr>\n",
       "      <th>90991</th>\n",
       "      <td>디지털/가전</td>\n",
       "      <td>PC부품</td>\n",
       "      <td>CPU</td>\n",
       "      <td>인텔 코어i3-4세대 4160 (하스웰 리프레시) (정품)</td>\n",
       "    </tr>\n",
       "    <tr>\n",
       "      <th>90992</th>\n",
       "      <td>디지털/가전</td>\n",
       "      <td>PC부품</td>\n",
       "      <td>CPU</td>\n",
       "      <td>인텔 코어i3-4세대 4160 (하스웰 리프레시) (수입/박스)</td>\n",
       "    </tr>\n",
       "    <tr>\n",
       "      <th>90993</th>\n",
       "      <td>디지털/가전</td>\n",
       "      <td>PC부품</td>\n",
       "      <td>CPU</td>\n",
       "      <td>애플 맥북에어 13형 MJVG2KH/A + AirPort Time Capsule -...</td>\n",
       "    </tr>\n",
       "    <tr>\n",
       "      <th>90994</th>\n",
       "      <td>디지털/가전</td>\n",
       "      <td>PC부품</td>\n",
       "      <td>CPU</td>\n",
       "      <td>[해외] Intel Intel Xeon Qc E3-1270 Processor    ...</td>\n",
       "    </tr>\n",
       "    <tr>\n",
       "      <th>90995</th>\n",
       "      <td>디지털/가전</td>\n",
       "      <td>PC부품</td>\n",
       "      <td>CPU</td>\n",
       "      <td>[해외]IntelIntel Pentium Dual Core G2030 LGA 115...</td>\n",
       "    </tr>\n",
       "    <tr>\n",
       "      <th>90996</th>\n",
       "      <td>디지털/가전</td>\n",
       "      <td>PC부품</td>\n",
       "      <td>CPU</td>\n",
       "      <td>[해외]IntelIntel PENTIUM SL7EP:M Processor 735 1...</td>\n",
       "    </tr>\n",
       "    <tr>\n",
       "      <th>90997</th>\n",
       "      <td>디지털/가전</td>\n",
       "      <td>PC부품</td>\n",
       "      <td>CPU</td>\n",
       "      <td>[해외]IntelIntel Pentium Processor G3258 4 BX806...</td>\n",
       "    </tr>\n",
       "    <tr>\n",
       "      <th>90998</th>\n",
       "      <td>디지털/가전</td>\n",
       "      <td>PC부품</td>\n",
       "      <td>CPU</td>\n",
       "      <td>[4%즉시할인쿠폰]인텔 제온 E3-1226V3 (하스웰) (정품)</td>\n",
       "    </tr>\n",
       "    <tr>\n",
       "      <th>90999</th>\n",
       "      <td>디지털/가전</td>\n",
       "      <td>PC부품</td>\n",
       "      <td>CPU</td>\n",
       "      <td>[해외]IntelIntel?? Xeon?? Processor X5570 (8M Ca...</td>\n",
       "    </tr>\n",
       "    <tr>\n",
       "      <th>91000</th>\n",
       "      <td>디지털/가전</td>\n",
       "      <td>PC부품</td>\n",
       "      <td>CPU</td>\n",
       "      <td>[4%즉시할인쿠폰]인텔 코어2듀오 E7400 (울프데일)</td>\n",
       "    </tr>\n",
       "    <tr>\n",
       "      <th>91001</th>\n",
       "      <td>디지털/가전</td>\n",
       "      <td>PC부품</td>\n",
       "      <td>CPU</td>\n",
       "      <td>[해외]IntelIntel Core i7-4790K Processor (8M Cac...</td>\n",
       "    </tr>\n",
       "    <tr>\n",
       "      <th>91002</th>\n",
       "      <td>디지털/가전</td>\n",
       "      <td>PC부품</td>\n",
       "      <td>CPU</td>\n",
       "      <td>[해외]IntelIntel Core i3-4370 3.8 GHz Desktop Ha...</td>\n",
       "    </tr>\n",
       "    <tr>\n",
       "      <th>91003</th>\n",
       "      <td>디지털/가전</td>\n",
       "      <td>PC부품</td>\n",
       "      <td>CPU</td>\n",
       "      <td>[해외]IBMIBM Xeon E5-2620 2 GHz Processor Upgrad...</td>\n",
       "    </tr>\n",
       "    <tr>\n",
       "      <th>91004</th>\n",
       "      <td>디지털/가전</td>\n",
       "      <td>PC부품</td>\n",
       "      <td>CPU</td>\n",
       "      <td>[해외]IntelIntel Core i5-4690 Processor (6M Cach...</td>\n",
       "    </tr>\n",
       "    <tr>\n",
       "      <th>91005</th>\n",
       "      <td>디지털/가전</td>\n",
       "      <td>PC부품</td>\n",
       "      <td>CPU</td>\n",
       "      <td>[해외]IntelIntel Core i7-5930K Haswell-E 6-Core ...</td>\n",
       "    </tr>\n",
       "    <tr>\n",
       "      <th>91006</th>\n",
       "      <td>디지털/가전</td>\n",
       "      <td>PC부품</td>\n",
       "      <td>CPU</td>\n",
       "      <td>[해외]IBMIBM Xeon E5-2650 2 GHz 8 LGA 2011 Proce...</td>\n",
       "    </tr>\n",
       "    <tr>\n",
       "      <th>91007</th>\n",
       "      <td>디지털/가전</td>\n",
       "      <td>PC부품</td>\n",
       "      <td>CPU</td>\n",
       "      <td>[해외]IntelIntel I7-950 LGA1366 3.06G 8MB 4.8 GT...</td>\n",
       "    </tr>\n",
       "    <tr>\n",
       "      <th>91008</th>\n",
       "      <td>디지털/가전</td>\n",
       "      <td>PC부품</td>\n",
       "      <td>CPU</td>\n",
       "      <td>[해외]IntelIntel Core i7-4900MQ 2.80GHz Processo...</td>\n",
       "    </tr>\n",
       "    <tr>\n",
       "      <th>91009</th>\n",
       "      <td>디지털/가전</td>\n",
       "      <td>PC부품</td>\n",
       "      <td>CPU</td>\n",
       "      <td>[해외]HPHP Xeon E5-2620V2 2.1 GHz 6 LGA 2011 Pro...</td>\n",
       "    </tr>\n",
       "    <tr>\n",
       "      <th>91010</th>\n",
       "      <td>디지털/가전</td>\n",
       "      <td>PC부품</td>\n",
       "      <td>CPU</td>\n",
       "      <td>[4%즉시할인쿠폰]Intel Pentium G3258 3.2 GHz Processo...</td>\n",
       "    </tr>\n",
       "    <tr>\n",
       "      <th>91011</th>\n",
       "      <td>디지털/가전</td>\n",
       "      <td>PC부품</td>\n",
       "      <td>CPU</td>\n",
       "      <td>인텔 코어 i3 아이비브릿지 3220</td>\n",
       "    </tr>\n",
       "    <tr>\n",
       "      <th>91012</th>\n",
       "      <td>디지털/가전</td>\n",
       "      <td>PC부품</td>\n",
       "      <td>CPU</td>\n",
       "      <td>인텔 펜티엄 하스웰 G3220</td>\n",
       "    </tr>\n",
       "    <tr>\n",
       "      <th>91013</th>\n",
       "      <td>디지털/가전</td>\n",
       "      <td>PC부품</td>\n",
       "      <td>CPU</td>\n",
       "      <td>인텔 제온 하스웰 E3-1230V3</td>\n",
       "    </tr>\n",
       "    <tr>\n",
       "      <th>91014</th>\n",
       "      <td>디지털/가전</td>\n",
       "      <td>PC부품</td>\n",
       "      <td>CPU</td>\n",
       "      <td>AMD 비쉐라 8350</td>\n",
       "    </tr>\n",
       "    <tr>\n",
       "      <th>...</th>\n",
       "      <td>...</td>\n",
       "      <td>...</td>\n",
       "      <td>...</td>\n",
       "      <td>...</td>\n",
       "    </tr>\n",
       "    <tr>\n",
       "      <th>842694</th>\n",
       "      <td>패션의류</td>\n",
       "      <td>아동의류</td>\n",
       "      <td>한복</td>\n",
       "      <td>[국민카드5%][예화][예화-좋은아이들] 名品 전통양단 색동 여아동한복(돌복전용)_...</td>\n",
       "    </tr>\n",
       "    <tr>\n",
       "      <th>842695</th>\n",
       "      <td>패션의류</td>\n",
       "      <td>아동의류</td>\n",
       "      <td>한복</td>\n",
       "      <td>[신한카드 5%할인, 3/19]예화-좋은아이들名品 남아 아동한복 금직배자보라 600...</td>\n",
       "    </tr>\n",
       "    <tr>\n",
       "      <th>842696</th>\n",
       "      <td>패션의류</td>\n",
       "      <td>아동의류</td>\n",
       "      <td>한복</td>\n",
       "      <td>[프렌치캣] [2015년 봄 기획상품]세로 ST 레깅스(Q51DKP290) [갤러리...</td>\n",
       "    </tr>\n",
       "    <tr>\n",
       "      <th>842697</th>\n",
       "      <td>패션의류</td>\n",
       "      <td>아동의류</td>\n",
       "      <td>한복</td>\n",
       "      <td>[BC카드5%할인][예화_좋은아이들] 名品 아동한복 남아_ 4005 이산검정 (배자...</td>\n",
       "    </tr>\n",
       "    <tr>\n",
       "      <th>842698</th>\n",
       "      <td>패션의류</td>\n",
       "      <td>아동의류</td>\n",
       "      <td>한복</td>\n",
       "      <td>[5% 즉시할인] 고빅스 여성 한복 소품 머리장식  주석칠보 뒷꽂이 NA027   3개</td>\n",
       "    </tr>\n",
       "    <tr>\n",
       "      <th>842699</th>\n",
       "      <td>패션의류</td>\n",
       "      <td>아동의류</td>\n",
       "      <td>한복</td>\n",
       "      <td>[최저가파워] 아동한복 [예화-좋은아이들] 아동한복 여아 1078 빛이나분홍</td>\n",
       "    </tr>\n",
       "    <tr>\n",
       "      <th>842700</th>\n",
       "      <td>패션의류</td>\n",
       "      <td>아동의류</td>\n",
       "      <td>한복</td>\n",
       "      <td>[예화-좋은아이들] 아동한복 여아 1078 빛이나분홍</td>\n",
       "    </tr>\n",
       "    <tr>\n",
       "      <th>842701</th>\n",
       "      <td>패션의류</td>\n",
       "      <td>아동의류</td>\n",
       "      <td>한복</td>\n",
       "      <td>[예화한복] 좋은아이들 아동한복 여아 1078 빛이나분홍</td>\n",
       "    </tr>\n",
       "    <tr>\n",
       "      <th>842702</th>\n",
       "      <td>패션의류</td>\n",
       "      <td>아동의류</td>\n",
       "      <td>한복</td>\n",
       "      <td>[5% 즉시할인] 고빅스 여성 한복 소품 머리장식  주석칠보 뒷꽂이 NA021   3개</td>\n",
       "    </tr>\n",
       "    <tr>\n",
       "      <th>842703</th>\n",
       "      <td>패션의류</td>\n",
       "      <td>아동의류</td>\n",
       "      <td>한복</td>\n",
       "      <td>[현대백화점 I관]10만원이상 양말 증정 [바비]여아 컬러풀 포니테일 블라우스티(화...</td>\n",
       "    </tr>\n",
       "    <tr>\n",
       "      <th>842704</th>\n",
       "      <td>패션의류</td>\n",
       "      <td>아동의류</td>\n",
       "      <td>한복</td>\n",
       "      <td>[서우한복] 여아 능소화노랑</td>\n",
       "    </tr>\n",
       "    <tr>\n",
       "      <th>842705</th>\n",
       "      <td>패션의류</td>\n",
       "      <td>아동의류</td>\n",
       "      <td>한복</td>\n",
       "      <td>[예화-좋은아이들] 名品 전통 돌금박 여아 전통 돌한복_ 5029 (당의+자락치마)</td>\n",
       "    </tr>\n",
       "    <tr>\n",
       "      <th>842706</th>\n",
       "      <td>패션의류</td>\n",
       "      <td>아동의류</td>\n",
       "      <td>한복</td>\n",
       "      <td>[KB국민카드 5%할인, 3/14]Fidelia프론트리프팅로얄블루세트</td>\n",
       "    </tr>\n",
       "    <tr>\n",
       "      <th>842707</th>\n",
       "      <td>패션의류</td>\n",
       "      <td>아동의류</td>\n",
       "      <td>한복</td>\n",
       "      <td>[5% 즉시할인](현대Hmall)[名品한복의 대명사 아씨우리옷] 아동한복 소품 머리...</td>\n",
       "    </tr>\n",
       "    <tr>\n",
       "      <th>842708</th>\n",
       "      <td>패션의류</td>\n",
       "      <td>아동의류</td>\n",
       "      <td>한복</td>\n",
       "      <td>[BC카드5%할인][예화-좋은아이들] 名品 남아 아동한복 색동비취 6015 (배자+...</td>\n",
       "    </tr>\n",
       "    <tr>\n",
       "      <th>842709</th>\n",
       "      <td>패션의류</td>\n",
       "      <td>아동의류</td>\n",
       "      <td>한복</td>\n",
       "      <td>[예화-좋은아이들] 여아 아동한복_ 3030 은별 녹두 저고리+치마[[]</td>\n",
       "    </tr>\n",
       "    <tr>\n",
       "      <th>842710</th>\n",
       "      <td>패션의류</td>\n",
       "      <td>아동의류</td>\n",
       "      <td>한복</td>\n",
       "      <td>[신한카드5%할인][예화-좋은아이들] 아동한복 여아 1076 빛이나노랑</td>\n",
       "    </tr>\n",
       "    <tr>\n",
       "      <th>842711</th>\n",
       "      <td>패션의류</td>\n",
       "      <td>아동의류</td>\n",
       "      <td>한복</td>\n",
       "      <td>베네통키즈 멀티프린트경량신발주머니(QCBG23511.PK)</td>\n",
       "    </tr>\n",
       "    <tr>\n",
       "      <th>842712</th>\n",
       "      <td>패션의류</td>\n",
       "      <td>아동의류</td>\n",
       "      <td>한복</td>\n",
       "      <td>[드레스하우스]드레스하우스)hm68 꿈나래_나비코사지 비취배자 한복</td>\n",
       "    </tr>\n",
       "    <tr>\n",
       "      <th>842713</th>\n",
       "      <td>패션의류</td>\n",
       "      <td>아동의류</td>\n",
       "      <td>한복</td>\n",
       "      <td>[프렌치캣] [2015년 여름 기획상품]BL 우븐 PT(Q52DKP320) [갤러리...</td>\n",
       "    </tr>\n",
       "    <tr>\n",
       "      <th>842714</th>\n",
       "      <td>패션의류</td>\n",
       "      <td>아동의류</td>\n",
       "      <td>한복</td>\n",
       "      <td>[신한카드5%할인][늘사랑] 금박 꽃수 당의(1380-07 아동여)</td>\n",
       "    </tr>\n",
       "    <tr>\n",
       "      <th>842715</th>\n",
       "      <td>패션의류</td>\n",
       "      <td>아동의류</td>\n",
       "      <td>한복</td>\n",
       "      <td>[BC카드5%할인][예화-좋은아이들] 남아 퓨전 아동한복_ 2065 양귀비 (배자+...</td>\n",
       "    </tr>\n",
       "    <tr>\n",
       "      <th>842716</th>\n",
       "      <td>패션의류</td>\n",
       "      <td>아동의류</td>\n",
       "      <td>한복</td>\n",
       "      <td>[BC카드5%할인][예화-좋은아이들] 名品 전통 남아 아동한복_ 5008 금직수박 ...</td>\n",
       "    </tr>\n",
       "    <tr>\n",
       "      <th>842717</th>\n",
       "      <td>패션의류</td>\n",
       "      <td>아동의류</td>\n",
       "      <td>한복</td>\n",
       "      <td>[예화-좋은아이들] 名品 전통 남아 아동한복_ 5008 금직수박 배자+저고리+바지[[]</td>\n",
       "    </tr>\n",
       "    <tr>\n",
       "      <th>842718</th>\n",
       "      <td>패션의류</td>\n",
       "      <td>아동의류</td>\n",
       "      <td>한복</td>\n",
       "      <td>[5% 즉시할인]아씨우리옷  아씨우리옷  패션플러스  名品한복의 대명사 아씨우리옷 ...</td>\n",
       "    </tr>\n",
       "    <tr>\n",
       "      <th>842719</th>\n",
       "      <td>패션의류</td>\n",
       "      <td>아동의류</td>\n",
       "      <td>한복</td>\n",
       "      <td>[신한카드5%할인][서우한복] 아동한복 여자아동 금나래 (분홍)</td>\n",
       "    </tr>\n",
       "    <tr>\n",
       "      <th>842720</th>\n",
       "      <td>패션의류</td>\n",
       "      <td>아동의류</td>\n",
       "      <td>한복</td>\n",
       "      <td>[현대백화점 VI관] 게스키즈 G47KAT010W2 여 A라인 전사나염 티셔츠</td>\n",
       "    </tr>\n",
       "    <tr>\n",
       "      <th>842721</th>\n",
       "      <td>패션의류</td>\n",
       "      <td>아동의류</td>\n",
       "      <td>한복</td>\n",
       "      <td>베네통키즈 키즈 러블리 와펜 쿠션지 맨투맨티셔츠 QATS19511IVNYPK</td>\n",
       "    </tr>\n",
       "    <tr>\n",
       "      <th>842722</th>\n",
       "      <td>패션의류</td>\n",
       "      <td>아동의류</td>\n",
       "      <td>한복</td>\n",
       "      <td>[현대백화점 I관] 베네통키즈 (QATS19511)러블리와펜쿠션지맨투맨티셔츠</td>\n",
       "    </tr>\n",
       "    <tr>\n",
       "      <th>842723</th>\n",
       "      <td>패션의류</td>\n",
       "      <td>아동의류</td>\n",
       "      <td>한복</td>\n",
       "      <td>[현대백화점 V관] 파코라반베이비 룰라니트가디건 PP1-43204 핑크</td>\n",
       "    </tr>\n",
       "  </tbody>\n",
       "</table>\n",
       "<p>10000 rows × 4 columns</p>\n",
       "</div>"
      ],
      "text/plain": [
       "         cate1 cate2 cate3                                               name\n",
       "90985   디지털/가전  PC부품   CPU                    인텔 인텔 코어i7-4세대 4770K (하스웰) (정품)\n",
       "90986   디지털/가전  PC부품   CPU  애플 맥북에어 13형 MacBook Air 13.3/1.6/4/256FLASH MJ...\n",
       "90987   디지털/가전  PC부품   CPU  애플 맥북에어 11형 MacBook Air 11.6/1.6/4/128FLASH MJ...\n",
       "90988   디지털/가전  PC부품   CPU  [ICODA] [대리점정품]인텔 제온 E5-2630V3 하스웰-EP (2.4GHz/...\n",
       "90989   디지털/가전  PC부품   CPU  ICODA [대리점정품]인텔 제온 E5-2630V3 하스웰-EP (2.4GHz/8C...\n",
       "90990   디지털/가전  PC부품   CPU                         인텔 intel 코어4세대 하스웰 i3-4160\n",
       "90991   디지털/가전  PC부품   CPU                   인텔 코어i3-4세대 4160 (하스웰 리프레시) (정품)\n",
       "90992   디지털/가전  PC부품   CPU                인텔 코어i3-4세대 4160 (하스웰 리프레시) (수입/박스)\n",
       "90993   디지털/가전  PC부품   CPU  애플 맥북에어 13형 MJVG2KH/A + AirPort Time Capsule -...\n",
       "90994   디지털/가전  PC부품   CPU  [해외] Intel Intel Xeon Qc E3-1270 Processor    ...\n",
       "90995   디지털/가전  PC부품   CPU  [해외]IntelIntel Pentium Dual Core G2030 LGA 115...\n",
       "90996   디지털/가전  PC부품   CPU  [해외]IntelIntel PENTIUM SL7EP:M Processor 735 1...\n",
       "90997   디지털/가전  PC부품   CPU  [해외]IntelIntel Pentium Processor G3258 4 BX806...\n",
       "90998   디지털/가전  PC부품   CPU               [4%즉시할인쿠폰]인텔 제온 E3-1226V3 (하스웰) (정품)\n",
       "90999   디지털/가전  PC부품   CPU  [해외]IntelIntel?? Xeon?? Processor X5570 (8M Ca...\n",
       "91000   디지털/가전  PC부품   CPU                    [4%즉시할인쿠폰]인텔 코어2듀오 E7400 (울프데일)\n",
       "91001   디지털/가전  PC부품   CPU  [해외]IntelIntel Core i7-4790K Processor (8M Cac...\n",
       "91002   디지털/가전  PC부품   CPU  [해외]IntelIntel Core i3-4370 3.8 GHz Desktop Ha...\n",
       "91003   디지털/가전  PC부품   CPU  [해외]IBMIBM Xeon E5-2620 2 GHz Processor Upgrad...\n",
       "91004   디지털/가전  PC부품   CPU  [해외]IntelIntel Core i5-4690 Processor (6M Cach...\n",
       "91005   디지털/가전  PC부품   CPU  [해외]IntelIntel Core i7-5930K Haswell-E 6-Core ...\n",
       "91006   디지털/가전  PC부품   CPU  [해외]IBMIBM Xeon E5-2650 2 GHz 8 LGA 2011 Proce...\n",
       "91007   디지털/가전  PC부품   CPU  [해외]IntelIntel I7-950 LGA1366 3.06G 8MB 4.8 GT...\n",
       "91008   디지털/가전  PC부품   CPU  [해외]IntelIntel Core i7-4900MQ 2.80GHz Processo...\n",
       "91009   디지털/가전  PC부품   CPU  [해외]HPHP Xeon E5-2620V2 2.1 GHz 6 LGA 2011 Pro...\n",
       "91010   디지털/가전  PC부품   CPU  [4%즉시할인쿠폰]Intel Pentium G3258 3.2 GHz Processo...\n",
       "91011   디지털/가전  PC부품   CPU                               인텔 코어 i3 아이비브릿지 3220\n",
       "91012   디지털/가전  PC부품   CPU                                   인텔 펜티엄 하스웰 G3220\n",
       "91013   디지털/가전  PC부품   CPU                                인텔 제온 하스웰 E3-1230V3\n",
       "91014   디지털/가전  PC부품   CPU                                       AMD 비쉐라 8350\n",
       "...        ...   ...   ...                                                ...\n",
       "842694    패션의류  아동의류    한복  [국민카드5%][예화][예화-좋은아이들] 名品 전통양단 색동 여아동한복(돌복전용)_...\n",
       "842695    패션의류  아동의류    한복  [신한카드 5%할인, 3/19]예화-좋은아이들名品 남아 아동한복 금직배자보라 600...\n",
       "842696    패션의류  아동의류    한복  [프렌치캣] [2015년 봄 기획상품]세로 ST 레깅스(Q51DKP290) [갤러리...\n",
       "842697    패션의류  아동의류    한복  [BC카드5%할인][예화_좋은아이들] 名品 아동한복 남아_ 4005 이산검정 (배자...\n",
       "842698    패션의류  아동의류    한복   [5% 즉시할인] 고빅스 여성 한복 소품 머리장식  주석칠보 뒷꽂이 NA027   3개\n",
       "842699    패션의류  아동의류    한복         [최저가파워] 아동한복 [예화-좋은아이들] 아동한복 여아 1078 빛이나분홍\n",
       "842700    패션의류  아동의류    한복                      [예화-좋은아이들] 아동한복 여아 1078 빛이나분홍\n",
       "842701    패션의류  아동의류    한복                    [예화한복] 좋은아이들 아동한복 여아 1078 빛이나분홍\n",
       "842702    패션의류  아동의류    한복   [5% 즉시할인] 고빅스 여성 한복 소품 머리장식  주석칠보 뒷꽂이 NA021   3개\n",
       "842703    패션의류  아동의류    한복  [현대백화점 I관]10만원이상 양말 증정 [바비]여아 컬러풀 포니테일 블라우스티(화...\n",
       "842704    패션의류  아동의류    한복                                    [서우한복] 여아 능소화노랑\n",
       "842705    패션의류  아동의류    한복     [예화-좋은아이들] 名品 전통 돌금박 여아 전통 돌한복_ 5029 (당의+자락치마)\n",
       "842706    패션의류  아동의류    한복             [KB국민카드 5%할인, 3/14]Fidelia프론트리프팅로얄블루세트\n",
       "842707    패션의류  아동의류    한복  [5% 즉시할인](현대Hmall)[名品한복의 대명사 아씨우리옷] 아동한복 소품 머리...\n",
       "842708    패션의류  아동의류    한복  [BC카드5%할인][예화-좋은아이들] 名品 남아 아동한복 색동비취 6015 (배자+...\n",
       "842709    패션의류  아동의류    한복           [예화-좋은아이들] 여아 아동한복_ 3030 은별 녹두 저고리+치마[[]\n",
       "842710    패션의류  아동의류    한복            [신한카드5%할인][예화-좋은아이들] 아동한복 여아 1076 빛이나노랑\n",
       "842711    패션의류  아동의류    한복                   베네통키즈 멀티프린트경량신발주머니(QCBG23511.PK)\n",
       "842712    패션의류  아동의류    한복              [드레스하우스]드레스하우스)hm68 꿈나래_나비코사지 비취배자 한복\n",
       "842713    패션의류  아동의류    한복  [프렌치캣] [2015년 여름 기획상품]BL 우븐 PT(Q52DKP320) [갤러리...\n",
       "842714    패션의류  아동의류    한복              [신한카드5%할인][늘사랑] 금박 꽃수 당의(1380-07 아동여)\n",
       "842715    패션의류  아동의류    한복  [BC카드5%할인][예화-좋은아이들] 남아 퓨전 아동한복_ 2065 양귀비 (배자+...\n",
       "842716    패션의류  아동의류    한복  [BC카드5%할인][예화-좋은아이들] 名品 전통 남아 아동한복_ 5008 금직수박 ...\n",
       "842717    패션의류  아동의류    한복   [예화-좋은아이들] 名品 전통 남아 아동한복_ 5008 금직수박 배자+저고리+바지[[]\n",
       "842718    패션의류  아동의류    한복  [5% 즉시할인]아씨우리옷  아씨우리옷  패션플러스  名品한복의 대명사 아씨우리옷 ...\n",
       "842719    패션의류  아동의류    한복                [신한카드5%할인][서우한복] 아동한복 여자아동 금나래 (분홍)\n",
       "842720    패션의류  아동의류    한복        [현대백화점 VI관] 게스키즈 G47KAT010W2 여 A라인 전사나염 티셔츠\n",
       "842721    패션의류  아동의류    한복         베네통키즈 키즈 러블리 와펜 쿠션지 맨투맨티셔츠 QATS19511IVNYPK\n",
       "842722    패션의류  아동의류    한복         [현대백화점 I관] 베네통키즈 (QATS19511)러블리와펜쿠션지맨투맨티셔츠\n",
       "842723    패션의류  아동의류    한복            [현대백화점 V관] 파코라반베이비 룰라니트가디건 PP1-43204 핑크\n",
       "\n",
       "[10000 rows x 4 columns]"
      ]
     },
     "execution_count": 4,
     "metadata": {},
     "output_type": "execute_result"
    }
   ],
   "source": [
    "train_df"
   ]
  },
  {
   "cell_type": "code",
   "execution_count": 5,
   "metadata": {
    "collapsed": true
   },
   "outputs": [],
   "source": [
    "from sklearn.feature_extraction.text import CountVectorizer"
   ]
  },
  {
   "cell_type": "code",
   "execution_count": 6,
   "metadata": {
    "collapsed": true
   },
   "outputs": [],
   "source": [
    "vectorizer = CountVectorizer()"
   ]
  },
  {
   "cell_type": "code",
   "execution_count": 7,
   "metadata": {
    "collapsed": true
   },
   "outputs": [],
   "source": [
    "d_list = []\n",
    "cate_list = []\n",
    "for each in train_df.iterrows():\n",
    "    cate = \";\".join([each[1]['cate1'],each[1]['cate2'],each[1]['cate3']])\n",
    "    d_list.append(each[1]['name'])\n",
    "    cate_list.append(cate)"
   ]
  },
  {
   "cell_type": "code",
   "execution_count": 8,
   "metadata": {
    "collapsed": false
   },
   "outputs": [
    {
     "name": "stdout",
     "output_type": "stream",
     "text": [
      "108\n"
     ]
    }
   ],
   "source": [
    "print len(set(cate_list))"
   ]
  },
  {
   "cell_type": "code",
   "execution_count": 9,
   "metadata": {
    "collapsed": true
   },
   "outputs": [],
   "source": [
    "cate_dict = dict(zip(list(set(cate_list)),range(len(set(cate_list)))))"
   ]
  },
  {
   "cell_type": "code",
   "execution_count": 10,
   "metadata": {
    "collapsed": false
   },
   "outputs": [
    {
     "name": "stdout",
     "output_type": "stream",
     "text": [
      "0\n",
      "80\n"
     ]
    }
   ],
   "source": [
    "print cate_dict[u'디지털/가전;네트워크장비;KVM스위치']\n",
    "print cate_dict[u'패션의류;남성의류;정장']"
   ]
  },
  {
   "cell_type": "code",
   "execution_count": 11,
   "metadata": {
    "collapsed": true
   },
   "outputs": [],
   "source": [
    "y_list = []\n",
    "for each in train_df.iterrows():\n",
    "    cate = \";\".join([each[1]['cate1'],each[1]['cate2'],each[1]['cate3']])\n",
    "    y_list.append(cate_dict[cate])"
   ]
  },
  {
   "cell_type": "code",
   "execution_count": 12,
   "metadata": {
    "collapsed": true
   },
   "outputs": [],
   "source": [
    "x_list = vectorizer.fit_transform(d_list)"
   ]
  },
  {
   "cell_type": "code",
   "execution_count": 13,
   "metadata": {
    "collapsed": true
   },
   "outputs": [],
   "source": [
    "# print y_list"
   ]
  },
  {
   "cell_type": "code",
   "execution_count": 14,
   "metadata": {
    "collapsed": true
   },
   "outputs": [],
   "source": [
    "from sklearn.svm import LinearSVC"
   ]
  },
  {
   "cell_type": "code",
   "execution_count": 15,
   "metadata": {
    "collapsed": true
   },
   "outputs": [],
   "source": [
    "from sklearn.grid_search import GridSearchCV"
   ]
  },
  {
   "cell_type": "code",
   "execution_count": 16,
   "metadata": {
    "collapsed": true
   },
   "outputs": [],
   "source": [
    "import numpy as np"
   ]
  },
  {
   "cell_type": "code",
   "execution_count": 17,
   "metadata": {
    "collapsed": true
   },
   "outputs": [],
   "source": [
    "svc_param = {'C':np.logspace(-2,0,20)}"
   ]
  },
  {
   "cell_type": "code",
   "execution_count": 18,
   "metadata": {
    "collapsed": true
   },
   "outputs": [],
   "source": [
    "gs_svc = GridSearchCV(LinearSVC(loss='l2'),svc_param,cv=5,n_jobs=4)"
   ]
  },
  {
   "cell_type": "code",
   "execution_count": 19,
   "metadata": {
    "collapsed": false
   },
   "outputs": [
    {
     "name": "stderr",
     "output_type": "stream",
     "text": [
      "/opt/conda/envs/python2/lib/python2.7/site-packages/sklearn/cross_validation.py:516: Warning: The least populated class in y has only 4 members, which is too few. The minimum number of labels for any class cannot be less than n_folds=5.\n",
      "  % (min_labels, self.n_folds)), Warning)\n",
      "/opt/conda/envs/python2/lib/python2.7/site-packages/sklearn/svm/classes.py:197: DeprecationWarning: loss='l2' has been deprecated in favor of loss='squared_hinge' as of 0.16. Backward compatibility for the loss='l2' will be removed in 1.0\n",
      "  DeprecationWarning)\n",
      "/opt/conda/envs/python2/lib/python2.7/site-packages/sklearn/svm/classes.py:197: DeprecationWarning: loss='l2' has been deprecated in favor of loss='squared_hinge' as of 0.16. Backward compatibility for the loss='l2' will be removed in 1.0\n",
      "  DeprecationWarning)\n",
      "/opt/conda/envs/python2/lib/python2.7/site-packages/sklearn/svm/classes.py:197: DeprecationWarning: loss='l2' has been deprecated in favor of loss='squared_hinge' as of 0.16. Backward compatibility for the loss='l2' will be removed in 1.0\n",
      "  DeprecationWarning)\n",
      "/opt/conda/envs/python2/lib/python2.7/site-packages/sklearn/svm/classes.py:197: DeprecationWarning: loss='l2' has been deprecated in favor of loss='squared_hinge' as of 0.16. Backward compatibility for the loss='l2' will be removed in 1.0\n",
      "  DeprecationWarning)\n",
      "/opt/conda/envs/python2/lib/python2.7/site-packages/sklearn/svm/classes.py:197: DeprecationWarning: loss='l2' has been deprecated in favor of loss='squared_hinge' as of 0.16. Backward compatibility for the loss='l2' will be removed in 1.0\n",
      "  DeprecationWarning)\n",
      "/opt/conda/envs/python2/lib/python2.7/site-packages/sklearn/svm/classes.py:197: DeprecationWarning: loss='l2' has been deprecated in favor of loss='squared_hinge' as of 0.16. Backward compatibility for the loss='l2' will be removed in 1.0\n",
      "  DeprecationWarning)\n",
      "/opt/conda/envs/python2/lib/python2.7/site-packages/sklearn/svm/classes.py:197: DeprecationWarning: loss='l2' has been deprecated in favor of loss='squared_hinge' as of 0.16. Backward compatibility for the loss='l2' will be removed in 1.0\n",
      "  DeprecationWarning)\n",
      "/opt/conda/envs/python2/lib/python2.7/site-packages/sklearn/svm/classes.py:197: DeprecationWarning: loss='l2' has been deprecated in favor of loss='squared_hinge' as of 0.16. Backward compatibility for the loss='l2' will be removed in 1.0\n",
      "  DeprecationWarning)\n",
      "/opt/conda/envs/python2/lib/python2.7/site-packages/sklearn/svm/classes.py:197: DeprecationWarning: loss='l2' has been deprecated in favor of loss='squared_hinge' as of 0.16. Backward compatibility for the loss='l2' will be removed in 1.0\n",
      "  DeprecationWarning)\n",
      "/opt/conda/envs/python2/lib/python2.7/site-packages/sklearn/svm/classes.py:197: DeprecationWarning: loss='l2' has been deprecated in favor of loss='squared_hinge' as of 0.16. Backward compatibility for the loss='l2' will be removed in 1.0\n",
      "  DeprecationWarning)\n",
      "/opt/conda/envs/python2/lib/python2.7/site-packages/sklearn/svm/classes.py:197: DeprecationWarning: loss='l2' has been deprecated in favor of loss='squared_hinge' as of 0.16. Backward compatibility for the loss='l2' will be removed in 1.0\n",
      "  DeprecationWarning)\n",
      "/opt/conda/envs/python2/lib/python2.7/site-packages/sklearn/svm/classes.py:197: DeprecationWarning: loss='l2' has been deprecated in favor of loss='squared_hinge' as of 0.16. Backward compatibility for the loss='l2' will be removed in 1.0\n",
      "  DeprecationWarning)\n",
      "/opt/conda/envs/python2/lib/python2.7/site-packages/sklearn/svm/classes.py:197: DeprecationWarning: loss='l2' has been deprecated in favor of loss='squared_hinge' as of 0.16. Backward compatibility for the loss='l2' will be removed in 1.0\n",
      "  DeprecationWarning)\n",
      "/opt/conda/envs/python2/lib/python2.7/site-packages/sklearn/svm/classes.py:197: DeprecationWarning: loss='l2' has been deprecated in favor of loss='squared_hinge' as of 0.16. Backward compatibility for the loss='l2' will be removed in 1.0\n",
      "  DeprecationWarning)\n",
      "/opt/conda/envs/python2/lib/python2.7/site-packages/sklearn/svm/classes.py:197: DeprecationWarning: loss='l2' has been deprecated in favor of loss='squared_hinge' as of 0.16. Backward compatibility for the loss='l2' will be removed in 1.0\n",
      "  DeprecationWarning)\n",
      "/opt/conda/envs/python2/lib/python2.7/site-packages/sklearn/svm/classes.py:197: DeprecationWarning: loss='l2' has been deprecated in favor of loss='squared_hinge' as of 0.16. Backward compatibility for the loss='l2' will be removed in 1.0\n",
      "  DeprecationWarning)\n",
      "/opt/conda/envs/python2/lib/python2.7/site-packages/sklearn/svm/classes.py:197: DeprecationWarning: loss='l2' has been deprecated in favor of loss='squared_hinge' as of 0.16. Backward compatibility for the loss='l2' will be removed in 1.0\n",
      "  DeprecationWarning)\n",
      "/opt/conda/envs/python2/lib/python2.7/site-packages/sklearn/svm/classes.py:197: DeprecationWarning: loss='l2' has been deprecated in favor of loss='squared_hinge' as of 0.16. Backward compatibility for the loss='l2' will be removed in 1.0\n",
      "  DeprecationWarning)\n",
      "/opt/conda/envs/python2/lib/python2.7/site-packages/sklearn/svm/classes.py:197: DeprecationWarning: loss='l2' has been deprecated in favor of loss='squared_hinge' as of 0.16. Backward compatibility for the loss='l2' will be removed in 1.0\n",
      "  DeprecationWarning)\n",
      "/opt/conda/envs/python2/lib/python2.7/site-packages/sklearn/svm/classes.py:197: DeprecationWarning: loss='l2' has been deprecated in favor of loss='squared_hinge' as of 0.16. Backward compatibility for the loss='l2' will be removed in 1.0\n",
      "  DeprecationWarning)\n",
      "/opt/conda/envs/python2/lib/python2.7/site-packages/sklearn/svm/classes.py:197: DeprecationWarning: loss='l2' has been deprecated in favor of loss='squared_hinge' as of 0.16. Backward compatibility for the loss='l2' will be removed in 1.0\n",
      "  DeprecationWarning)\n",
      "/opt/conda/envs/python2/lib/python2.7/site-packages/sklearn/svm/classes.py:197: DeprecationWarning: loss='l2' has been deprecated in favor of loss='squared_hinge' as of 0.16. Backward compatibility for the loss='l2' will be removed in 1.0\n",
      "  DeprecationWarning)\n",
      "/opt/conda/envs/python2/lib/python2.7/site-packages/sklearn/svm/classes.py:197: DeprecationWarning: loss='l2' has been deprecated in favor of loss='squared_hinge' as of 0.16. Backward compatibility for the loss='l2' will be removed in 1.0\n",
      "  DeprecationWarning)\n",
      "/opt/conda/envs/python2/lib/python2.7/site-packages/sklearn/svm/classes.py:197: DeprecationWarning: loss='l2' has been deprecated in favor of loss='squared_hinge' as of 0.16. Backward compatibility for the loss='l2' will be removed in 1.0\n",
      "  DeprecationWarning)\n",
      "/opt/conda/envs/python2/lib/python2.7/site-packages/sklearn/svm/classes.py:197: DeprecationWarning: loss='l2' has been deprecated in favor of loss='squared_hinge' as of 0.16. Backward compatibility for the loss='l2' will be removed in 1.0\n",
      "  DeprecationWarning)\n",
      "/opt/conda/envs/python2/lib/python2.7/site-packages/sklearn/svm/classes.py:197: DeprecationWarning: loss='l2' has been deprecated in favor of loss='squared_hinge' as of 0.16. Backward compatibility for the loss='l2' will be removed in 1.0\n",
      "  DeprecationWarning)\n",
      "/opt/conda/envs/python2/lib/python2.7/site-packages/sklearn/svm/classes.py:197: DeprecationWarning: loss='l2' has been deprecated in favor of loss='squared_hinge' as of 0.16. Backward compatibility for the loss='l2' will be removed in 1.0\n",
      "  DeprecationWarning)\n",
      "/opt/conda/envs/python2/lib/python2.7/site-packages/sklearn/svm/classes.py:197: DeprecationWarning: loss='l2' has been deprecated in favor of loss='squared_hinge' as of 0.16. Backward compatibility for the loss='l2' will be removed in 1.0\n",
      "  DeprecationWarning)\n",
      "/opt/conda/envs/python2/lib/python2.7/site-packages/sklearn/svm/classes.py:197: DeprecationWarning: loss='l2' has been deprecated in favor of loss='squared_hinge' as of 0.16. Backward compatibility for the loss='l2' will be removed in 1.0\n",
      "  DeprecationWarning)\n",
      "/opt/conda/envs/python2/lib/python2.7/site-packages/sklearn/svm/classes.py:197: DeprecationWarning: loss='l2' has been deprecated in favor of loss='squared_hinge' as of 0.16. Backward compatibility for the loss='l2' will be removed in 1.0\n",
      "  DeprecationWarning)\n",
      "/opt/conda/envs/python2/lib/python2.7/site-packages/sklearn/svm/classes.py:197: DeprecationWarning: loss='l2' has been deprecated in favor of loss='squared_hinge' as of 0.16. Backward compatibility for the loss='l2' will be removed in 1.0\n",
      "  DeprecationWarning)\n",
      "/opt/conda/envs/python2/lib/python2.7/site-packages/sklearn/svm/classes.py:197: DeprecationWarning: loss='l2' has been deprecated in favor of loss='squared_hinge' as of 0.16. Backward compatibility for the loss='l2' will be removed in 1.0\n",
      "  DeprecationWarning)\n",
      "/opt/conda/envs/python2/lib/python2.7/site-packages/sklearn/svm/classes.py:197: DeprecationWarning: loss='l2' has been deprecated in favor of loss='squared_hinge' as of 0.16. Backward compatibility for the loss='l2' will be removed in 1.0\n",
      "  DeprecationWarning)\n",
      "/opt/conda/envs/python2/lib/python2.7/site-packages/sklearn/svm/classes.py:197: DeprecationWarning: loss='l2' has been deprecated in favor of loss='squared_hinge' as of 0.16. Backward compatibility for the loss='l2' will be removed in 1.0\n",
      "  DeprecationWarning)\n",
      "/opt/conda/envs/python2/lib/python2.7/site-packages/sklearn/svm/classes.py:197: DeprecationWarning: loss='l2' has been deprecated in favor of loss='squared_hinge' as of 0.16. Backward compatibility for the loss='l2' will be removed in 1.0\n",
      "  DeprecationWarning)\n",
      "/opt/conda/envs/python2/lib/python2.7/site-packages/sklearn/svm/classes.py:197: DeprecationWarning: loss='l2' has been deprecated in favor of loss='squared_hinge' as of 0.16. Backward compatibility for the loss='l2' will be removed in 1.0\n",
      "  DeprecationWarning)\n",
      "/opt/conda/envs/python2/lib/python2.7/site-packages/sklearn/svm/classes.py:197: DeprecationWarning: loss='l2' has been deprecated in favor of loss='squared_hinge' as of 0.16. Backward compatibility for the loss='l2' will be removed in 1.0\n",
      "  DeprecationWarning)\n",
      "/opt/conda/envs/python2/lib/python2.7/site-packages/sklearn/svm/classes.py:197: DeprecationWarning: loss='l2' has been deprecated in favor of loss='squared_hinge' as of 0.16. Backward compatibility for the loss='l2' will be removed in 1.0\n",
      "  DeprecationWarning)\n",
      "/opt/conda/envs/python2/lib/python2.7/site-packages/sklearn/svm/classes.py:197: DeprecationWarning: loss='l2' has been deprecated in favor of loss='squared_hinge' as of 0.16. Backward compatibility for the loss='l2' will be removed in 1.0\n",
      "  DeprecationWarning)\n",
      "/opt/conda/envs/python2/lib/python2.7/site-packages/sklearn/svm/classes.py:197: DeprecationWarning: loss='l2' has been deprecated in favor of loss='squared_hinge' as of 0.16. Backward compatibility for the loss='l2' will be removed in 1.0\n",
      "  DeprecationWarning)\n",
      "/opt/conda/envs/python2/lib/python2.7/site-packages/sklearn/svm/classes.py:197: DeprecationWarning: loss='l2' has been deprecated in favor of loss='squared_hinge' as of 0.16. Backward compatibility for the loss='l2' will be removed in 1.0\n",
      "  DeprecationWarning)\n",
      "/opt/conda/envs/python2/lib/python2.7/site-packages/sklearn/svm/classes.py:197: DeprecationWarning: loss='l2' has been deprecated in favor of loss='squared_hinge' as of 0.16. Backward compatibility for the loss='l2' will be removed in 1.0\n",
      "  DeprecationWarning)\n",
      "/opt/conda/envs/python2/lib/python2.7/site-packages/sklearn/svm/classes.py:197: DeprecationWarning: loss='l2' has been deprecated in favor of loss='squared_hinge' as of 0.16. Backward compatibility for the loss='l2' will be removed in 1.0\n",
      "  DeprecationWarning)\n",
      "/opt/conda/envs/python2/lib/python2.7/site-packages/sklearn/svm/classes.py:197: DeprecationWarning: loss='l2' has been deprecated in favor of loss='squared_hinge' as of 0.16. Backward compatibility for the loss='l2' will be removed in 1.0\n",
      "  DeprecationWarning)\n",
      "/opt/conda/envs/python2/lib/python2.7/site-packages/sklearn/svm/classes.py:197: DeprecationWarning: loss='l2' has been deprecated in favor of loss='squared_hinge' as of 0.16. Backward compatibility for the loss='l2' will be removed in 1.0\n",
      "  DeprecationWarning)\n",
      "/opt/conda/envs/python2/lib/python2.7/site-packages/sklearn/svm/classes.py:197: DeprecationWarning: loss='l2' has been deprecated in favor of loss='squared_hinge' as of 0.16. Backward compatibility for the loss='l2' will be removed in 1.0\n",
      "  DeprecationWarning)\n",
      "/opt/conda/envs/python2/lib/python2.7/site-packages/sklearn/svm/classes.py:197: DeprecationWarning: loss='l2' has been deprecated in favor of loss='squared_hinge' as of 0.16. Backward compatibility for the loss='l2' will be removed in 1.0\n",
      "  DeprecationWarning)\n",
      "/opt/conda/envs/python2/lib/python2.7/site-packages/sklearn/svm/classes.py:197: DeprecationWarning: loss='l2' has been deprecated in favor of loss='squared_hinge' as of 0.16. Backward compatibility for the loss='l2' will be removed in 1.0\n",
      "  DeprecationWarning)\n",
      "/opt/conda/envs/python2/lib/python2.7/site-packages/sklearn/svm/classes.py:197: DeprecationWarning: loss='l2' has been deprecated in favor of loss='squared_hinge' as of 0.16. Backward compatibility for the loss='l2' will be removed in 1.0\n",
      "  DeprecationWarning)\n",
      "/opt/conda/envs/python2/lib/python2.7/site-packages/sklearn/svm/classes.py:197: DeprecationWarning: loss='l2' has been deprecated in favor of loss='squared_hinge' as of 0.16. Backward compatibility for the loss='l2' will be removed in 1.0\n",
      "  DeprecationWarning)\n",
      "/opt/conda/envs/python2/lib/python2.7/site-packages/sklearn/svm/classes.py:197: DeprecationWarning: loss='l2' has been deprecated in favor of loss='squared_hinge' as of 0.16. Backward compatibility for the loss='l2' will be removed in 1.0\n",
      "  DeprecationWarning)\n",
      "/opt/conda/envs/python2/lib/python2.7/site-packages/sklearn/svm/classes.py:197: DeprecationWarning: loss='l2' has been deprecated in favor of loss='squared_hinge' as of 0.16. Backward compatibility for the loss='l2' will be removed in 1.0\n",
      "  DeprecationWarning)\n",
      "/opt/conda/envs/python2/lib/python2.7/site-packages/sklearn/svm/classes.py:197: DeprecationWarning: loss='l2' has been deprecated in favor of loss='squared_hinge' as of 0.16. Backward compatibility for the loss='l2' will be removed in 1.0\n",
      "  DeprecationWarning)\n",
      "/opt/conda/envs/python2/lib/python2.7/site-packages/sklearn/svm/classes.py:197: DeprecationWarning: loss='l2' has been deprecated in favor of loss='squared_hinge' as of 0.16. Backward compatibility for the loss='l2' will be removed in 1.0\n",
      "  DeprecationWarning)\n",
      "/opt/conda/envs/python2/lib/python2.7/site-packages/sklearn/svm/classes.py:197: DeprecationWarning: loss='l2' has been deprecated in favor of loss='squared_hinge' as of 0.16. Backward compatibility for the loss='l2' will be removed in 1.0\n",
      "  DeprecationWarning)\n",
      "/opt/conda/envs/python2/lib/python2.7/site-packages/sklearn/svm/classes.py:197: DeprecationWarning: loss='l2' has been deprecated in favor of loss='squared_hinge' as of 0.16. Backward compatibility for the loss='l2' will be removed in 1.0\n",
      "  DeprecationWarning)\n",
      "/opt/conda/envs/python2/lib/python2.7/site-packages/sklearn/svm/classes.py:197: DeprecationWarning: loss='l2' has been deprecated in favor of loss='squared_hinge' as of 0.16. Backward compatibility for the loss='l2' will be removed in 1.0\n",
      "  DeprecationWarning)\n",
      "/opt/conda/envs/python2/lib/python2.7/site-packages/sklearn/svm/classes.py:197: DeprecationWarning: loss='l2' has been deprecated in favor of loss='squared_hinge' as of 0.16. Backward compatibility for the loss='l2' will be removed in 1.0\n",
      "  DeprecationWarning)\n",
      "/opt/conda/envs/python2/lib/python2.7/site-packages/sklearn/svm/classes.py:197: DeprecationWarning: loss='l2' has been deprecated in favor of loss='squared_hinge' as of 0.16. Backward compatibility for the loss='l2' will be removed in 1.0\n",
      "  DeprecationWarning)\n",
      "/opt/conda/envs/python2/lib/python2.7/site-packages/sklearn/svm/classes.py:197: DeprecationWarning: loss='l2' has been deprecated in favor of loss='squared_hinge' as of 0.16. Backward compatibility for the loss='l2' will be removed in 1.0\n",
      "  DeprecationWarning)\n",
      "/opt/conda/envs/python2/lib/python2.7/site-packages/sklearn/svm/classes.py:197: DeprecationWarning: loss='l2' has been deprecated in favor of loss='squared_hinge' as of 0.16. Backward compatibility for the loss='l2' will be removed in 1.0\n",
      "  DeprecationWarning)\n",
      "/opt/conda/envs/python2/lib/python2.7/site-packages/sklearn/svm/classes.py:197: DeprecationWarning: loss='l2' has been deprecated in favor of loss='squared_hinge' as of 0.16. Backward compatibility for the loss='l2' will be removed in 1.0\n",
      "  DeprecationWarning)\n",
      "/opt/conda/envs/python2/lib/python2.7/site-packages/sklearn/svm/classes.py:197: DeprecationWarning: loss='l2' has been deprecated in favor of loss='squared_hinge' as of 0.16. Backward compatibility for the loss='l2' will be removed in 1.0\n",
      "  DeprecationWarning)\n",
      "/opt/conda/envs/python2/lib/python2.7/site-packages/sklearn/svm/classes.py:197: DeprecationWarning: loss='l2' has been deprecated in favor of loss='squared_hinge' as of 0.16. Backward compatibility for the loss='l2' will be removed in 1.0\n",
      "  DeprecationWarning)\n",
      "/opt/conda/envs/python2/lib/python2.7/site-packages/sklearn/svm/classes.py:197: DeprecationWarning: loss='l2' has been deprecated in favor of loss='squared_hinge' as of 0.16. Backward compatibility for the loss='l2' will be removed in 1.0\n",
      "  DeprecationWarning)\n",
      "/opt/conda/envs/python2/lib/python2.7/site-packages/sklearn/svm/classes.py:197: DeprecationWarning: loss='l2' has been deprecated in favor of loss='squared_hinge' as of 0.16. Backward compatibility for the loss='l2' will be removed in 1.0\n",
      "  DeprecationWarning)\n",
      "/opt/conda/envs/python2/lib/python2.7/site-packages/sklearn/svm/classes.py:197: DeprecationWarning: loss='l2' has been deprecated in favor of loss='squared_hinge' as of 0.16. Backward compatibility for the loss='l2' will be removed in 1.0\n",
      "  DeprecationWarning)\n",
      "/opt/conda/envs/python2/lib/python2.7/site-packages/sklearn/svm/classes.py:197: DeprecationWarning: loss='l2' has been deprecated in favor of loss='squared_hinge' as of 0.16. Backward compatibility for the loss='l2' will be removed in 1.0\n",
      "  DeprecationWarning)\n",
      "/opt/conda/envs/python2/lib/python2.7/site-packages/sklearn/svm/classes.py:197: DeprecationWarning: loss='l2' has been deprecated in favor of loss='squared_hinge' as of 0.16. Backward compatibility for the loss='l2' will be removed in 1.0\n",
      "  DeprecationWarning)\n",
      "/opt/conda/envs/python2/lib/python2.7/site-packages/sklearn/svm/classes.py:197: DeprecationWarning: loss='l2' has been deprecated in favor of loss='squared_hinge' as of 0.16. Backward compatibility for the loss='l2' will be removed in 1.0\n",
      "  DeprecationWarning)\n",
      "/opt/conda/envs/python2/lib/python2.7/site-packages/sklearn/svm/classes.py:197: DeprecationWarning: loss='l2' has been deprecated in favor of loss='squared_hinge' as of 0.16. Backward compatibility for the loss='l2' will be removed in 1.0\n",
      "  DeprecationWarning)\n",
      "/opt/conda/envs/python2/lib/python2.7/site-packages/sklearn/svm/classes.py:197: DeprecationWarning: loss='l2' has been deprecated in favor of loss='squared_hinge' as of 0.16. Backward compatibility for the loss='l2' will be removed in 1.0\n",
      "  DeprecationWarning)\n",
      "/opt/conda/envs/python2/lib/python2.7/site-packages/sklearn/svm/classes.py:197: DeprecationWarning: loss='l2' has been deprecated in favor of loss='squared_hinge' as of 0.16. Backward compatibility for the loss='l2' will be removed in 1.0\n",
      "  DeprecationWarning)\n",
      "/opt/conda/envs/python2/lib/python2.7/site-packages/sklearn/svm/classes.py:197: DeprecationWarning: loss='l2' has been deprecated in favor of loss='squared_hinge' as of 0.16. Backward compatibility for the loss='l2' will be removed in 1.0\n",
      "  DeprecationWarning)\n",
      "/opt/conda/envs/python2/lib/python2.7/site-packages/sklearn/svm/classes.py:197: DeprecationWarning: loss='l2' has been deprecated in favor of loss='squared_hinge' as of 0.16. Backward compatibility for the loss='l2' will be removed in 1.0\n",
      "  DeprecationWarning)\n",
      "/opt/conda/envs/python2/lib/python2.7/site-packages/sklearn/svm/classes.py:197: DeprecationWarning: loss='l2' has been deprecated in favor of loss='squared_hinge' as of 0.16. Backward compatibility for the loss='l2' will be removed in 1.0\n",
      "  DeprecationWarning)\n",
      "/opt/conda/envs/python2/lib/python2.7/site-packages/sklearn/svm/classes.py:197: DeprecationWarning: loss='l2' has been deprecated in favor of loss='squared_hinge' as of 0.16. Backward compatibility for the loss='l2' will be removed in 1.0\n",
      "  DeprecationWarning)\n",
      "/opt/conda/envs/python2/lib/python2.7/site-packages/sklearn/svm/classes.py:197: DeprecationWarning: loss='l2' has been deprecated in favor of loss='squared_hinge' as of 0.16. Backward compatibility for the loss='l2' will be removed in 1.0\n",
      "  DeprecationWarning)\n",
      "/opt/conda/envs/python2/lib/python2.7/site-packages/sklearn/svm/classes.py:197: DeprecationWarning: loss='l2' has been deprecated in favor of loss='squared_hinge' as of 0.16. Backward compatibility for the loss='l2' will be removed in 1.0\n",
      "  DeprecationWarning)\n",
      "/opt/conda/envs/python2/lib/python2.7/site-packages/sklearn/svm/classes.py:197: DeprecationWarning: loss='l2' has been deprecated in favor of loss='squared_hinge' as of 0.16. Backward compatibility for the loss='l2' will be removed in 1.0\n",
      "  DeprecationWarning)\n",
      "/opt/conda/envs/python2/lib/python2.7/site-packages/sklearn/svm/classes.py:197: DeprecationWarning: loss='l2' has been deprecated in favor of loss='squared_hinge' as of 0.16. Backward compatibility for the loss='l2' will be removed in 1.0\n",
      "  DeprecationWarning)\n",
      "/opt/conda/envs/python2/lib/python2.7/site-packages/sklearn/svm/classes.py:197: DeprecationWarning: loss='l2' has been deprecated in favor of loss='squared_hinge' as of 0.16. Backward compatibility for the loss='l2' will be removed in 1.0\n",
      "  DeprecationWarning)\n",
      "/opt/conda/envs/python2/lib/python2.7/site-packages/sklearn/svm/classes.py:197: DeprecationWarning: loss='l2' has been deprecated in favor of loss='squared_hinge' as of 0.16. Backward compatibility for the loss='l2' will be removed in 1.0\n",
      "  DeprecationWarning)\n",
      "/opt/conda/envs/python2/lib/python2.7/site-packages/sklearn/svm/classes.py:197: DeprecationWarning: loss='l2' has been deprecated in favor of loss='squared_hinge' as of 0.16. Backward compatibility for the loss='l2' will be removed in 1.0\n",
      "  DeprecationWarning)\n",
      "/opt/conda/envs/python2/lib/python2.7/site-packages/sklearn/svm/classes.py:197: DeprecationWarning: loss='l2' has been deprecated in favor of loss='squared_hinge' as of 0.16. Backward compatibility for the loss='l2' will be removed in 1.0\n",
      "  DeprecationWarning)\n",
      "/opt/conda/envs/python2/lib/python2.7/site-packages/sklearn/svm/classes.py:197: DeprecationWarning: loss='l2' has been deprecated in favor of loss='squared_hinge' as of 0.16. Backward compatibility for the loss='l2' will be removed in 1.0\n",
      "  DeprecationWarning)\n",
      "/opt/conda/envs/python2/lib/python2.7/site-packages/sklearn/svm/classes.py:197: DeprecationWarning: loss='l2' has been deprecated in favor of loss='squared_hinge' as of 0.16. Backward compatibility for the loss='l2' will be removed in 1.0\n",
      "  DeprecationWarning)\n",
      "/opt/conda/envs/python2/lib/python2.7/site-packages/sklearn/svm/classes.py:197: DeprecationWarning: loss='l2' has been deprecated in favor of loss='squared_hinge' as of 0.16. Backward compatibility for the loss='l2' will be removed in 1.0\n",
      "  DeprecationWarning)\n",
      "/opt/conda/envs/python2/lib/python2.7/site-packages/sklearn/svm/classes.py:197: DeprecationWarning: loss='l2' has been deprecated in favor of loss='squared_hinge' as of 0.16. Backward compatibility for the loss='l2' will be removed in 1.0\n",
      "  DeprecationWarning)\n",
      "/opt/conda/envs/python2/lib/python2.7/site-packages/sklearn/svm/classes.py:197: DeprecationWarning: loss='l2' has been deprecated in favor of loss='squared_hinge' as of 0.16. Backward compatibility for the loss='l2' will be removed in 1.0\n",
      "  DeprecationWarning)\n",
      "/opt/conda/envs/python2/lib/python2.7/site-packages/sklearn/svm/classes.py:197: DeprecationWarning: loss='l2' has been deprecated in favor of loss='squared_hinge' as of 0.16. Backward compatibility for the loss='l2' will be removed in 1.0\n",
      "  DeprecationWarning)\n",
      "/opt/conda/envs/python2/lib/python2.7/site-packages/sklearn/svm/classes.py:197: DeprecationWarning: loss='l2' has been deprecated in favor of loss='squared_hinge' as of 0.16. Backward compatibility for the loss='l2' will be removed in 1.0\n",
      "  DeprecationWarning)\n",
      "/opt/conda/envs/python2/lib/python2.7/site-packages/sklearn/svm/classes.py:197: DeprecationWarning: loss='l2' has been deprecated in favor of loss='squared_hinge' as of 0.16. Backward compatibility for the loss='l2' will be removed in 1.0\n",
      "  DeprecationWarning)\n",
      "/opt/conda/envs/python2/lib/python2.7/site-packages/sklearn/svm/classes.py:197: DeprecationWarning: loss='l2' has been deprecated in favor of loss='squared_hinge' as of 0.16. Backward compatibility for the loss='l2' will be removed in 1.0\n",
      "  DeprecationWarning)\n",
      "/opt/conda/envs/python2/lib/python2.7/site-packages/sklearn/svm/classes.py:197: DeprecationWarning: loss='l2' has been deprecated in favor of loss='squared_hinge' as of 0.16. Backward compatibility for the loss='l2' will be removed in 1.0\n",
      "  DeprecationWarning)\n",
      "/opt/conda/envs/python2/lib/python2.7/site-packages/sklearn/svm/classes.py:197: DeprecationWarning: loss='l2' has been deprecated in favor of loss='squared_hinge' as of 0.16. Backward compatibility for the loss='l2' will be removed in 1.0\n",
      "  DeprecationWarning)\n",
      "/opt/conda/envs/python2/lib/python2.7/site-packages/sklearn/svm/classes.py:197: DeprecationWarning: loss='l2' has been deprecated in favor of loss='squared_hinge' as of 0.16. Backward compatibility for the loss='l2' will be removed in 1.0\n",
      "  DeprecationWarning)\n",
      "/opt/conda/envs/python2/lib/python2.7/site-packages/sklearn/svm/classes.py:197: DeprecationWarning: loss='l2' has been deprecated in favor of loss='squared_hinge' as of 0.16. Backward compatibility for the loss='l2' will be removed in 1.0\n",
      "  DeprecationWarning)\n",
      "/opt/conda/envs/python2/lib/python2.7/site-packages/sklearn/svm/classes.py:197: DeprecationWarning: loss='l2' has been deprecated in favor of loss='squared_hinge' as of 0.16. Backward compatibility for the loss='l2' will be removed in 1.0\n",
      "  DeprecationWarning)\n",
      "/opt/conda/envs/python2/lib/python2.7/site-packages/sklearn/svm/classes.py:197: DeprecationWarning: loss='l2' has been deprecated in favor of loss='squared_hinge' as of 0.16. Backward compatibility for the loss='l2' will be removed in 1.0\n",
      "  DeprecationWarning)\n",
      "/opt/conda/envs/python2/lib/python2.7/site-packages/sklearn/svm/classes.py:197: DeprecationWarning: loss='l2' has been deprecated in favor of loss='squared_hinge' as of 0.16. Backward compatibility for the loss='l2' will be removed in 1.0\n",
      "  DeprecationWarning)\n"
     ]
    },
    {
     "data": {
      "text/plain": [
       "GridSearchCV(cv=5, error_score='raise',\n",
       "       estimator=LinearSVC(C=1.0, class_weight=None, dual=True, fit_intercept=True,\n",
       "     intercept_scaling=1, loss='l2', max_iter=1000, multi_class='ovr',\n",
       "     penalty='l2', random_state=None, tol=0.0001, verbose=0),\n",
       "       fit_params={}, iid=True, n_jobs=4,\n",
       "       param_grid={'C': array([ 0.01   ,  0.01274,  0.01624,  0.02069,  0.02637,  0.0336 ,\n",
       "        0.04281,  0.05456,  0.06952,  0.08859,  0.11288,  0.14384,\n",
       "        0.1833 ,  0.23357,  0.29764,  0.37927,  0.48329,  0.61585,\n",
       "        0.78476,  1.     ])},\n",
       "       pre_dispatch='2*n_jobs', refit=True, scoring=None, verbose=0)"
      ]
     },
     "execution_count": 19,
     "metadata": {},
     "output_type": "execute_result"
    }
   ],
   "source": [
    "gs_svc.fit(x_list, y_list)"
   ]
  },
  {
   "cell_type": "code",
   "execution_count": 20,
   "metadata": {
    "collapsed": false
   },
   "outputs": [
    {
     "name": "stdout",
     "output_type": "stream",
     "text": [
      "{'C': 0.088586679041008226} 0.6418\n"
     ]
    }
   ],
   "source": [
    "print gs_svc.best_params_, gs_svc.best_score_"
   ]
  },
  {
   "cell_type": "code",
   "execution_count": 21,
   "metadata": {
    "collapsed": true
   },
   "outputs": [],
   "source": [
    "clf = LinearSVC(C=gs_svc.best_params_['C'])"
   ]
  },
  {
   "cell_type": "code",
   "execution_count": 22,
   "metadata": {
    "collapsed": false
   },
   "outputs": [
    {
     "data": {
      "text/plain": [
       "LinearSVC(C=0.088586679041008226, class_weight=None, dual=True,\n",
       "     fit_intercept=True, intercept_scaling=1, loss='squared_hinge',\n",
       "     max_iter=1000, multi_class='ovr', penalty='l2', random_state=None,\n",
       "     tol=0.0001, verbose=0)"
      ]
     },
     "execution_count": 22,
     "metadata": {},
     "output_type": "execute_result"
    }
   ],
   "source": [
    "clf.fit(x_list,y_list)"
   ]
  },
  {
   "cell_type": "code",
   "execution_count": 23,
   "metadata": {
    "collapsed": true
   },
   "outputs": [],
   "source": [
    "from sklearn.externals import joblib"
   ]
  },
  {
   "cell_type": "code",
   "execution_count": 24,
   "metadata": {
    "collapsed": false
   },
   "outputs": [
    {
     "data": {
      "text/plain": [
       "['vectorizer.dat']"
      ]
     },
     "execution_count": 24,
     "metadata": {},
     "output_type": "execute_result"
    }
   ],
   "source": [
    "joblib.dump(clf,'classify.model',compress=3)\n",
    "joblib.dump(cate_dict,'cate_dict.dat',compress=3)\n",
    "joblib.dump(vectorizer,'vectorizer.dat',compress=3)"
   ]
  },
  {
   "cell_type": "code",
   "execution_count": 25,
   "metadata": {
    "collapsed": true
   },
   "outputs": [],
   "source": [
    "import requests"
   ]
  },
  {
   "cell_type": "code",
   "execution_count": 26,
   "metadata": {
    "collapsed": true
   },
   "outputs": [],
   "source": [
    "name='[신한카드5%할인][예화-좋은아이들] 아동한복 여아 1076 빛이나노랑'\n",
    "img=''"
   ]
  },
  {
   "cell_type": "code",
   "execution_count": 27,
   "metadata": {
    "collapsed": true
   },
   "outputs": [],
   "source": [
    "u='http://localhost:8887/classify?name=%s&img=%s'"
   ]
  },
  {
   "cell_type": "code",
   "execution_count": 28,
   "metadata": {
    "collapsed": true
   },
   "outputs": [],
   "source": [
    "r = requests.get(u%(name,img)).json()"
   ]
  },
  {
   "cell_type": "code",
   "execution_count": 29,
   "metadata": {
    "collapsed": false
   },
   "outputs": [
    {
     "name": "stdout",
     "output_type": "stream",
     "text": [
      "{u'cate': u'\\ud328\\uc158\\uc758\\ub958;\\uc544\\ub3d9\\uc758\\ub958;\\ud55c\\ubcf5'}\n"
     ]
    }
   ],
   "source": [
    "print r"
   ]
  },
  {
   "cell_type": "code",
   "execution_count": null,
   "metadata": {
    "collapsed": true
   },
   "outputs": [],
   "source": []
  }
 ],
 "metadata": {
  "kernelspec": {
   "display_name": "Python 2",
   "language": "python",
   "name": "python2"
  },
  "language_info": {
   "codemirror_mode": {
    "name": "ipython",
    "version": 2
   },
   "file_extension": ".py",
   "mimetype": "text/x-python",
   "name": "python",
   "nbconvert_exporter": "python",
   "pygments_lexer": "ipython2",
   "version": "2.7.11"
  },
  "widgets": {
   "state": {},
   "version": "1.1.2"
  }
 },
 "nbformat": 4,
 "nbformat_minor": 0
}
