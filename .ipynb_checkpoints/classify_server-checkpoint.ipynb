{
 "cells": [
  {
   "cell_type": "code",
   "execution_count": 1,
   "metadata": {
    "collapsed": true
   },
   "outputs": [],
   "source": [
    "from sklearn.externals import joblib"
   ]
  },
  {
   "cell_type": "code",
   "execution_count": 2,
   "metadata": {
    "collapsed": true
   },
   "outputs": [],
   "source": [
    "\n",
    "clf = joblib.load('classify.model')\n",
    "cate_dict = joblib.load('cate_dict.dat')\n",
    "vectorizer = joblib.load('vectorizer.dat')\n"
   ]
  },
  {
   "cell_type": "code",
   "execution_count": 3,
   "metadata": {
    "collapsed": false
   },
   "outputs": [],
   "source": [
    "cate_id_name_dict = dict(map(lambda (k,v):(v,k),cate_dict.items()))"
   ]
  },
  {
   "cell_type": "code",
   "execution_count": 4,
   "metadata": {
    "collapsed": false
   },
   "outputs": [
    {
     "name": "stdout",
     "output_type": "stream",
     "text": [
      "패션의류;아동의류;한복\n"
     ]
    }
   ],
   "source": [
    "pred = clf.predict(vectorizer.transform(['[신한카드5%할인][서우한복] 아동한복 여자아동 금나래 (분홍)']))[0]\n",
    "print cate_id_name_dict[pred]"
   ]
  },
  {
   "cell_type": "code",
   "execution_count": null,
   "metadata": {
    "collapsed": false
   },
   "outputs": [
    {
     "name": "stderr",
     "output_type": "stream",
     "text": [
      "Bottle v0.12.9 server starting up (using WSGIRefServer())...\n",
      "Listening on http://0.0.0.0:8887/\n",
      "Hit Ctrl-C to quit.\n",
      "\n",
      "127.0.0.1 - - [25/Jun/2016 13:28:38] \"GET /classify?name=[%EC%8B%A0%ED%95%9C%EC%B9%B4%EB%93%9C5%%ED%95%A0%EC%9D%B8][%EC%98%88%ED%99%94-%EC%A2%8B%EC%9D%80%EC%95%84%EC%9D%B4%EB%93%A4]%20%EC%95%84%EB%8F%99%ED%95%9C%EB%B3%B5%20%EC%97%AC%EC%95%84%201076%20%EB%B9%9B%EC%9D%B4%EB%82%98%EB%85%B8%EB%9E%91&img= HTTP/1.1\" 200 74\n"
     ]
    }
   ],
   "source": [
    "from bottle import route, run, template,request,get, post\n",
    "\n",
    "\n",
    "import  time\n",
    "from threading import  Condition\n",
    "_CONDITION = Condition()\n",
    "@route('/classify')\n",
    "def classify():\n",
    "    print \"classify called\"\n",
    "    img = request.GET.get('img','')\n",
    "    name = request.GET.get('name', '')\n",
    "    pred = clf.predict(vectorizer.transform([name]))[0]\n",
    "    return {'cate':cate_id_name_dict[pred]}\n",
    "\n",
    "\n",
    "run(host='0.0.0.0', port=8887)\n"
   ]
  },
  {
   "cell_type": "code",
   "execution_count": null,
   "metadata": {
    "collapsed": true
   },
   "outputs": [],
   "source": []
  }
 ],
 "metadata": {
  "kernelspec": {
   "display_name": "Python 2",
   "language": "python",
   "name": "python2"
  },
  "language_info": {
   "codemirror_mode": {
    "name": "ipython",
    "version": 2
   },
   "file_extension": ".py",
   "mimetype": "text/x-python",
   "name": "python",
   "nbconvert_exporter": "python",
   "pygments_lexer": "ipython2",
   "version": "2.7.10"
  }
 },
 "nbformat": 4,
 "nbformat_minor": 0
}
